{
 "metadata": {
  "language_info": {
   "codemirror_mode": {
    "name": "ipython",
    "version": 3
   },
   "file_extension": ".py",
   "mimetype": "text/x-python",
   "name": "python",
   "nbconvert_exporter": "python",
   "pygments_lexer": "ipython3",
   "version": "3.7.4"
  },
  "orig_nbformat": 2,
  "kernelspec": {
   "name": "python374jvsc74a57bd03553a4f3dd73112c9bbab68f88a09bf164abce22b20b2f3cda15c57dec54d150",
   "display_name": "Python 3.7.4 64-bit"
  },
  "metadata": {
   "interpreter": {
    "hash": "3553a4f3dd73112c9bbab68f88a09bf164abce22b20b2f3cda15c57dec54d150"
   }
  }
 },
 "nbformat": 4,
 "nbformat_minor": 2,
 "cells": [
  {
   "cell_type": "code",
   "execution_count": 1,
   "metadata": {},
   "outputs": [],
   "source": [
    "import numpy as np\n",
    "import pandas as pd\n",
    "import matplotlib.pyplot as plt\n",
    "\n",
    "# times are in milliseconds\n",
    "create_times = []\n",
    "_exec_times = []\n",
    "_exec_times_enc = []\n",
    "\n",
    "app_names = [\"zfwi\", \"zMeikonal\", \"zMhelicon\", \"zMkirmod\", \"zMmf\", \"zMmig2\", \"zMpwd\", \"zMricker1\", \"zMsigmoid\", \"zMslice\", \"zMsnr2\", \"zMunif2\"]\n",
    "\n",
    "def collect_data(create_enclave_times, enclave_exec_times, total_enc_times, normal_times, append=True):\n",
    "    enclave_exec_mean = np.mean(enclave_exec_times)\n",
    "    enclave_exec_dv = np.std(enclave_exec_times)\n",
    "    enclave_total_mean = np.mean(total_enc_times)\n",
    "    enclave_total_dv = np.std(total_enc_times)\n",
    "    normal_exec_mean = np.mean(normal_times)\n",
    "    normal_exec_dv = np.std(normal_times)\n",
    "\n",
    "    create_times.append(create_enclave_times)\n",
    "    _exec_times.append(normal_times)\n",
    "    _exec_times_enc.append(enclave_exec_times)\n",
    "\n",
    "    if (append):\n",
    "        rates.append(enclave_exec_mean / normal_exec_mean)\n",
    "\n",
    "    print(enclave_exec_mean / normal_exec_mean)\n",
    "    print(enclave_total_mean / normal_exec_mean)\n"
   ]
  },
  {
   "cell_type": "code",
   "execution_count": 2,
   "metadata": {},
   "outputs": [
    {
     "output_type": "stream",
     "name": "stdout",
     "text": [
      "0.029939043647199504\n0.03034200806254748\n"
     ]
    }
   ],
   "source": [
    "# sfwi\n",
    "create_enclave_times = [529,525,527,526,523,529,526,532,526,527]\n",
    "enclave_exec_times = [45867,45928,45927,45941,45943,45923,45931,45977,45935,45932]\n",
    "terminate_enclave_times = [30,30,30,30,29,29,30,30,30,29]\n",
    "total_enc_times = [46477,46503,46527,46534,46575,46536,46592,46660,46564,46518]\n",
    "\n",
    "normal_times = [1537288,1534733,1535423,1532584,1534911,1530793,1532910,1536285,1532714,1533664]\n",
    "\n",
    "collect_data(create_enclave_times, enclave_exec_times, total_enc_times, normal_times, False)"
   ]
  },
  {
   "cell_type": "code",
   "execution_count": 3,
   "metadata": {},
   "outputs": [
    {
     "output_type": "error",
     "ename": "NameError",
     "evalue": "name 'rates' is not defined",
     "traceback": [
      "\u001b[1;31m---------------------------------------------------------------------------\u001b[0m",
      "\u001b[1;31mNameError\u001b[0m                                 Traceback (most recent call last)",
      "\u001b[1;32m<ipython-input-3-61978789e973>\u001b[0m in \u001b[0;36m<module>\u001b[1;34m\u001b[0m\n\u001b[0;32m      7\u001b[0m \u001b[0mnormal_times\u001b[0m \u001b[1;33m=\u001b[0m \u001b[1;33m[\u001b[0m\u001b[1;36m7330475\u001b[0m\u001b[1;33m,\u001b[0m\u001b[1;36m7156220\u001b[0m\u001b[1;33m,\u001b[0m\u001b[1;36m7241760\u001b[0m\u001b[1;33m,\u001b[0m\u001b[1;36m7226458\u001b[0m\u001b[1;33m,\u001b[0m\u001b[1;36m7396501\u001b[0m\u001b[1;33m,\u001b[0m\u001b[1;36m7330972\u001b[0m\u001b[1;33m,\u001b[0m\u001b[1;36m7359248\u001b[0m\u001b[1;33m,\u001b[0m\u001b[1;36m7355380\u001b[0m\u001b[1;33m,\u001b[0m\u001b[1;36m7371445\u001b[0m\u001b[1;33m,\u001b[0m\u001b[1;36m7319376\u001b[0m\u001b[1;33m]\u001b[0m\u001b[1;33m\u001b[0m\u001b[1;33m\u001b[0m\u001b[0m\n\u001b[0;32m      8\u001b[0m \u001b[1;33m\u001b[0m\u001b[0m\n\u001b[1;32m----> 9\u001b[1;33m \u001b[0mcollect_data\u001b[0m\u001b[1;33m(\u001b[0m\u001b[0mcreate_enclave_times\u001b[0m\u001b[1;33m,\u001b[0m \u001b[0menclave_exec_times\u001b[0m\u001b[1;33m,\u001b[0m \u001b[0mtotal_enc_times\u001b[0m\u001b[1;33m,\u001b[0m \u001b[0mnormal_times\u001b[0m\u001b[1;33m)\u001b[0m\u001b[1;33m\u001b[0m\u001b[1;33m\u001b[0m\u001b[0m\n\u001b[0m",
      "\u001b[1;32m<ipython-input-1-db4a2b8c663d>\u001b[0m in \u001b[0;36mcollect_data\u001b[1;34m(create_enclave_times, enclave_exec_times, total_enc_times, normal_times, append)\u001b[0m\n\u001b[0;32m     23\u001b[0m \u001b[1;33m\u001b[0m\u001b[0m\n\u001b[0;32m     24\u001b[0m     \u001b[1;32mif\u001b[0m \u001b[1;33m(\u001b[0m\u001b[0mappend\u001b[0m\u001b[1;33m)\u001b[0m\u001b[1;33m:\u001b[0m\u001b[1;33m\u001b[0m\u001b[1;33m\u001b[0m\u001b[0m\n\u001b[1;32m---> 25\u001b[1;33m         \u001b[0mrates\u001b[0m\u001b[1;33m.\u001b[0m\u001b[0mappend\u001b[0m\u001b[1;33m(\u001b[0m\u001b[0menclave_exec_mean\u001b[0m \u001b[1;33m/\u001b[0m \u001b[0mnormal_exec_mean\u001b[0m\u001b[1;33m)\u001b[0m\u001b[1;33m\u001b[0m\u001b[1;33m\u001b[0m\u001b[0m\n\u001b[0m\u001b[0;32m     26\u001b[0m \u001b[1;33m\u001b[0m\u001b[0m\n\u001b[0;32m     27\u001b[0m     \u001b[0mprint\u001b[0m\u001b[1;33m(\u001b[0m\u001b[0menclave_exec_mean\u001b[0m \u001b[1;33m/\u001b[0m \u001b[0mnormal_exec_mean\u001b[0m\u001b[1;33m)\u001b[0m\u001b[1;33m\u001b[0m\u001b[1;33m\u001b[0m\u001b[0m\n",
      "\u001b[1;31mNameError\u001b[0m: name 'rates' is not defined"
     ]
    }
   ],
   "source": [
    "#sfeikonal\n",
    "create_enclave_times = [4732338,4744693,4776357,4806492,4803343,4783893,4800779,4790808,4814916,4812777]\n",
    "enclave_exec_times = [15192366,14944039,14774754,14830399,14733877,14793389,14750478,14701855,14723975,14802762]\n",
    "terminate_enclave_times = [74023,74315,74012,74135,74579,74203,73945,74665,74114,74134]\n",
    "total_enc_times = [20036699,19797575,19699543,19737536,19748148,19766392,19664687,19595108,19620315,19698281]\n",
    "\n",
    "normal_times = [7330475,7156220,7241760,7226458,7396501,7330972,7359248,7355380,7371445,7319376]\n",
    "\n",
    "collect_data(create_enclave_times, enclave_exec_times, total_enc_times, normal_times)"
   ]
  },
  {
   "cell_type": "code",
   "execution_count": 225,
   "metadata": {},
   "outputs": [
    {
     "output_type": "stream",
     "name": "stdout",
     "text": [
      "2.239186883299948\n135.19267007938274\n"
     ]
    }
   ],
   "source": [
    "# sfhelicon\n",
    "create_enclave_times = [93042,93340,93761,92027,93026,95842,92563,92101,92877,95382]\n",
    "enclave_exec_times = [3828,2799,2815,2981,2945,2986,2998,2991,2786,3053]\n",
    "terminate_enclave_times = [4289,4355,4330,4317,4344,4145,4479,4384,4116,4465]\n",
    "total_enc_times = [142041,219089,116788,160181,182925,183756,287309,230333,147313,152527]\n",
    "\n",
    "normal_times = [1330,1315,1364,1455,1336,1470,1321,1235,1322,1331]\n",
    "\n",
    "collect_data(create_enclave_times, enclave_exec_times, total_enc_times, normal_times)"
   ]
  },
  {
   "cell_type": "code",
   "execution_count": 226,
   "metadata": {},
   "outputs": [
    {
     "output_type": "stream",
     "name": "stdout",
     "text": [
      "1.0813319210765546\n1.983366216289229\n"
     ]
    }
   ],
   "source": [
    "# sfkirmod\n",
    "create_enclave_times = [140309,138613,140673,141390,146033,137744,140324,137484,143807,139080]\n",
    "enclave_exec_times = [298651,297110,298005,297440,300363,298283,298397,297357,299148,297301]\n",
    "terminate_enclave_times = [6923,6911,6956,6932,7069,6958,6959,6969,7004,6982]\n",
    "total_enc_times = [519889,509949,587659,604890,586936,475346,465134,578221,641391,500235]\n",
    "\n",
    "normal_times = [273248,274605,273159,294506,272942,273104,273201,274423,274524,274049]\n",
    "\n",
    "collect_data(create_enclave_times, enclave_exec_times, total_enc_times, normal_times)"
   ]
  },
  {
   "cell_type": "code",
   "execution_count": 227,
   "metadata": {},
   "outputs": [
    {
     "output_type": "stream",
     "name": "stdout",
     "text": [
      "1.3595876190815153\n20.105930645027343\n"
     ]
    }
   ],
   "source": [
    "# sfmf\n",
    "create_enclave_times = [89889,90455,92249,91938,91171,89960,93876,90762,89972,92850]\n",
    "enclave_exec_times = [12799,11328,11285,11289,11262,11317,11251,11145,11124,11801]\n",
    "terminate_enclave_times = [4142,4309,4446,4571,4527,4350,4401,5042,4600,4360]\n",
    "total_enc_times = [179017,197163,182474,142542,156332,163548,142767,171862,173783,185261]\n",
    "\n",
    "normal_times = [10356,8208,8187,8162,8215,8217,8176,8184,8420,8166]\n",
    "\n",
    "collect_data(create_enclave_times, enclave_exec_times, total_enc_times, normal_times)"
   ]
  },
  {
   "cell_type": "code",
   "execution_count": 228,
   "metadata": {},
   "outputs": [
    {
     "output_type": "stream",
     "name": "stdout",
     "text": [
      "1.5295126860278652\n1.5703354836808503\n"
     ]
    }
   ],
   "source": [
    "# sfmig2\n",
    "create_enclave_times = [237372,237472,237382,235315,237527,236061,236912,236441,234834,237586]\n",
    "enclave_exec_times = [10654417,10652422,10652361,10650917,10653973,10642086,10646364,10651559,10647149,10655337]\n",
    "terminate_enclave_times = [13879,13539,13391,13592,13522,13807,13358,13190,13913,13278]\n",
    "total_enc_times = [10963400,10920375,10939575,10914842,10914865,10910901,10940575,10917773,10935944,10991003]\n",
    "\n",
    "normal_times = [6970575,6963690,6963984,6962424,6961010,6968515,6963102,6960630,6958886,6961510]\n",
    "\n",
    "collect_data(create_enclave_times, enclave_exec_times, total_enc_times, normal_times)"
   ]
  },
  {
   "cell_type": "code",
   "execution_count": 229,
   "metadata": {},
   "outputs": [
    {
     "output_type": "stream",
     "name": "stdout",
     "text": [
      "3.3279395725146106\n38.17928014455713\n"
     ]
    }
   ],
   "source": [
    "# sfpwd\n",
    "create_enclave_times = [136712,141085,138767,137144,139800,137453,144331,135911,138124,138824]\n",
    "enclave_exec_times = [21585,19914,20438,20037,19988,20443,20488,20494,20624,20421]\n",
    "terminate_enclave_times = [7440,7509,7370,7614,7670,7428,7739,7619,7461,7252]\n",
    "total_enc_times = [250616,223206,201594,227791,192817,207785,203909,353554,232618,251425]\n",
    "\n",
    "normal_times = [6093,6207,6150,6158,6161,6142,6135,6152,6137,6094]\n",
    "\n",
    "collect_data(create_enclave_times, enclave_exec_times, total_enc_times, normal_times)"
   ]
  },
  {
   "cell_type": "code",
   "execution_count": 230,
   "metadata": {},
   "outputs": [
    {
     "output_type": "stream",
     "name": "stdout",
     "text": [
      "5.100918079096045\n85.39978813559323\n"
     ]
    }
   ],
   "source": [
    "# sfricker1\n",
    "create_enclave_times = [48516,47670,47293,47653,48250,47853,48276,47415,48183,47685]\n",
    "enclave_exec_times = [11726,6781,6792,6871,6605,6908,6655,6641,6650,6600]\n",
    "terminate_enclave_times = [1761,1666,1644,1652,1653,1651,1660,1668,1639,1577]\n",
    "total_enc_times = [90167,124286,110614,109788,173838,133139,75707,128010,113976,149736]\n",
    "\n",
    "normal_times = [1385,1392,1428,1384,1434,1396,1457,1454,1455,1375]\n",
    "\n",
    "collect_data(create_enclave_times, enclave_exec_times, total_enc_times, normal_times)"
   ]
  },
  {
   "cell_type": "code",
   "execution_count": 231,
   "metadata": {},
   "outputs": [
    {
     "output_type": "stream",
     "name": "stdout",
     "text": [
      "1.8132617861249523\n128.9969336910694\n"
     ]
    }
   ],
   "source": [
    "# sfsigmoid\n",
    "create_enclave_times = [66290,68161,65050,66004,66742,66370,70448,69016,69860,66069]\n",
    "enclave_exec_times = [2267,2552,2606,2532,2182,2199,2365,2345,2411,2195]\n",
    "terminate_enclave_times = [2801,2817,2782,2788,2841,2785,2840,2863,2882,2910]\n",
    "total_enc_times = [121753,174646,154179,89669,188145,94793,130005,172394,428916,128265]\n",
    "\n",
    "normal_times = [1355,1347,1329,1311,1258,1321,1269,1288,1324,1243]\n",
    "\n",
    "collect_data(create_enclave_times, enclave_exec_times, total_enc_times, normal_times)"
   ]
  },
  {
   "cell_type": "code",
   "execution_count": 232,
   "metadata": {},
   "outputs": [
    {
     "output_type": "stream",
     "name": "stdout",
     "text": [
      "31.422875816993464\n259.8988235294118\n"
     ]
    }
   ],
   "source": [
    "# sfslice\n",
    "create_enclave_times = [91273,95687,93192,94511,91629,90124,90780,90445,87674,91640]\n",
    "enclave_exec_times = [24577,23633,24005,24954,23857,23653,24487,23577,23945,23697]\n",
    "terminate_enclave_times = [5066,5300,4600,4905,4826,4884,5116,4706,4900,4539]\n",
    "total_enc_times = [159279,181054,181429,258025,144867,173571,329766,175070,146883,238282]\n",
    "\n",
    "normal_times = [777,746,808,736,746,742,729,795,821,750]\n",
    "\n",
    "collect_data(create_enclave_times, enclave_exec_times, total_enc_times, normal_times)"
   ]
  },
  {
   "cell_type": "code",
   "execution_count": 233,
   "metadata": {},
   "outputs": [
    {
     "output_type": "stream",
     "name": "stdout",
     "text": [
      "4.2109312389806055\n126.72615803814713\n"
     ]
    }
   ],
   "source": [
    "# sfsnr2\n",
    "create_enclave_times = [65016,71489,65732,65764,65893,65718,64745,70466,65798,66000]\n",
    "enclave_exec_times = [6440,5165,5337,5182,5060,4898,5183,5332,4923,5024]\n",
    "terminate_enclave_times = [2956,2988,2945,2915,2915,2907,2867,2865,2966,2881]\n",
    "total_enc_times = [97319,164754,163248,129003,318762,166326,113800,178671,115737,133669]\n",
    "\n",
    "normal_times = [1251,1282,1243,1263,1301,1273,1225,1217,1224,1199]\n",
    "\n",
    "collect_data(create_enclave_times, enclave_exec_times, total_enc_times, normal_times)"
   ]
  },
  {
   "cell_type": "code",
   "execution_count": 234,
   "metadata": {},
   "outputs": [
    {
     "output_type": "stream",
     "name": "stdout",
     "text": [
      "3.4127764127764126\n",
      "89.45124385749385\n"
     ]
    }
   ],
   "source": [
    "# sfunif2\n",
    "create_enclave_times = [48122,42312,42873,42915,43379,43354,42666,46177,43387,43259]\n",
    "enclave_exec_times = [5521,4295,4334,4296,4305,4322,4324,4290,4386,4375]\n",
    "terminate_enclave_times = [1277,1291,1302,1309,1334,1310,1305,1294,1316,1357]\n",
    "total_enc_times = [143856,129460,116184,77431,73555,134534,170001,89386,143698,86908]\n",
    "\n",
    "normal_times = [2843,1138,1117,1116,1201,1094,1101,1177,1116,1121]\n",
    "\n",
    "collect_data(create_enclave_times, enclave_exec_times, total_enc_times, normal_times)"
   ]
  },
  {
   "cell_type": "code",
   "execution_count": 236,
   "metadata": {},
   "outputs": [
    {
     "output_type": "display_data",
     "data": {
      "text/plain": "<Figure size 432x288 with 1 Axes>",
      "image/svg+xml": "<?xml version=\"1.0\" encoding=\"utf-8\" standalone=\"no\"?>\r\n<!DOCTYPE svg PUBLIC \"-//W3C//DTD SVG 1.1//EN\"\r\n  \"http://www.w3.org/Graphics/SVG/1.1/DTD/svg11.dtd\">\r\n<!-- Created with matplotlib (https://matplotlib.org/) -->\r\n<svg height=\"277.314375pt\" version=\"1.1\" viewBox=\"0 0 423.716875 277.314375\" width=\"423.716875pt\" xmlns=\"http://www.w3.org/2000/svg\" xmlns:xlink=\"http://www.w3.org/1999/xlink\">\r\n <defs>\r\n  <style type=\"text/css\">\r\n*{stroke-linecap:butt;stroke-linejoin:round;}\r\n  </style>\r\n </defs>\r\n <g id=\"figure_1\">\r\n  <g id=\"patch_1\">\r\n   <path d=\"M 0 277.314375 \r\nL 423.716875 277.314375 \r\nL 423.716875 0 \r\nL 0 0 \r\nz\r\n\" style=\"fill:none;\"/>\r\n  </g>\r\n  <g id=\"axes_1\">\r\n   <g id=\"patch_2\">\r\n    <path d=\"M 66.053125 239.758125 \r\nL 400.853125 239.758125 \r\nL 400.853125 22.318125 \r\nL 66.053125 22.318125 \r\nz\r\n\" style=\"fill:#ffffff;\"/>\r\n   </g>\r\n   <g id=\"PathCollection_1\">\r\n    <defs>\r\n     <path d=\"M 0 3 \r\nC 0.795609 3 1.55874 2.683901 2.12132 2.12132 \r\nC 2.683901 1.55874 3 0.795609 3 0 \r\nC 3 -0.795609 2.683901 -1.55874 2.12132 -2.12132 \r\nC 1.55874 -2.683901 0.795609 -3 0 -3 \r\nC -0.795609 -3 -1.55874 -2.683901 -2.12132 -2.12132 \r\nC -2.683901 -1.55874 -3 -0.795609 -3 0 \r\nC -3 0.795609 -2.683901 1.55874 -2.12132 2.12132 \r\nC -1.55874 2.683901 -0.795609 3 0 3 \r\nz\r\n\" id=\"m53902ba997\" style=\"stroke:#1f77b4;\"/>\r\n    </defs>\r\n    <g clip-path=\"url(#p333c6f17c1)\">\r\n     <use style=\"fill:#1f77b4;stroke:#1f77b4;\" x=\"155.564793\" xlink:href=\"#m53902ba997\" y=\"178.093858\"/>\r\n     <use style=\"fill:#1f77b4;stroke:#1f77b4;\" x=\"232.254843\" xlink:href=\"#m53902ba997\" y=\"138.584658\"/>\r\n     <use style=\"fill:#1f77b4;stroke:#1f77b4;\" x=\"155.564793\" xlink:href=\"#m53902ba997\" y=\"179.840071\"/>\r\n     <use style=\"fill:#1f77b4;stroke:#1f77b4;\" x=\"385.634943\" xlink:href=\"#m53902ba997\" y=\"58.019982\"/>\r\n     <use style=\"fill:#1f77b4;stroke:#1f77b4;\" x=\"232.254843\" xlink:href=\"#m53902ba997\" y=\"140.034822\"/>\r\n     <use style=\"fill:#1f77b4;stroke:#1f77b4;\" x=\"88.460999\" xlink:href=\"#m53902ba997\" y=\"216.234763\"/>\r\n     <use style=\"fill:#1f77b4;stroke:#1f77b4;\" x=\"117.219768\" xlink:href=\"#m53902ba997\" y=\"199.876558\"/>\r\n     <use style=\"fill:#1f77b4;stroke:#1f77b4;\" x=\"155.564793\" xlink:href=\"#m53902ba997\" y=\"179.518883\"/>\r\n     <use style=\"fill:#1f77b4;stroke:#1f77b4;\" x=\"117.219768\" xlink:href=\"#m53902ba997\" y=\"200.495723\"/>\r\n     <use style=\"fill:#1f77b4;stroke:#1f77b4;\" x=\"81.271307\" xlink:href=\"#m53902ba997\" y=\"219.615908\"/>\r\n    </g>\r\n   </g>\r\n   <g id=\"matplotlib.axis_1\">\r\n    <g id=\"xtick_1\">\r\n     <g id=\"line2d_1\">\r\n      <defs>\r\n       <path d=\"M 0 0 \r\nL 0 3.5 \r\n\" id=\"mdfe4c958d1\" style=\"stroke:#000000;stroke-width:0.8;\"/>\r\n      </defs>\r\n      <g>\r\n       <use style=\"stroke:#000000;stroke-width:0.8;\" x=\"78.874743\" xlink:href=\"#mdfe4c958d1\" y=\"239.758125\"/>\r\n      </g>\r\n     </g>\r\n     <g id=\"text_1\">\r\n      <!-- 0 -->\r\n      <defs>\r\n       <path d=\"M 31.78125 66.40625 \r\nQ 24.171875 66.40625 20.328125 58.90625 \r\nQ 16.5 51.421875 16.5 36.375 \r\nQ 16.5 21.390625 20.328125 13.890625 \r\nQ 24.171875 6.390625 31.78125 6.390625 \r\nQ 39.453125 6.390625 43.28125 13.890625 \r\nQ 47.125 21.390625 47.125 36.375 \r\nQ 47.125 51.421875 43.28125 58.90625 \r\nQ 39.453125 66.40625 31.78125 66.40625 \r\nz\r\nM 31.78125 74.21875 \r\nQ 44.046875 74.21875 50.515625 64.515625 \r\nQ 56.984375 54.828125 56.984375 36.375 \r\nQ 56.984375 17.96875 50.515625 8.265625 \r\nQ 44.046875 -1.421875 31.78125 -1.421875 \r\nQ 19.53125 -1.421875 13.0625 8.265625 \r\nQ 6.59375 17.96875 6.59375 36.375 \r\nQ 6.59375 54.828125 13.0625 64.515625 \r\nQ 19.53125 74.21875 31.78125 74.21875 \r\nz\r\n\" id=\"DejaVuSans-48\"/>\r\n      </defs>\r\n      <g transform=\"translate(75.693493 254.356562)scale(0.1 -0.1)\">\r\n       <use xlink:href=\"#DejaVuSans-48\"/>\r\n      </g>\r\n     </g>\r\n    </g>\r\n    <g id=\"xtick_2\">\r\n     <g id=\"line2d_2\">\r\n      <g>\r\n       <use style=\"stroke:#000000;stroke-width:0.8;\" x=\"116.321056\" xlink:href=\"#mdfe4c958d1\" y=\"239.758125\"/>\r\n      </g>\r\n     </g>\r\n     <g id=\"text_2\">\r\n      <!-- 500 -->\r\n      <defs>\r\n       <path d=\"M 10.796875 72.90625 \r\nL 49.515625 72.90625 \r\nL 49.515625 64.59375 \r\nL 19.828125 64.59375 \r\nL 19.828125 46.734375 \r\nQ 21.96875 47.46875 24.109375 47.828125 \r\nQ 26.265625 48.1875 28.421875 48.1875 \r\nQ 40.625 48.1875 47.75 41.5 \r\nQ 54.890625 34.8125 54.890625 23.390625 \r\nQ 54.890625 11.625 47.5625 5.09375 \r\nQ 40.234375 -1.421875 26.90625 -1.421875 \r\nQ 22.3125 -1.421875 17.546875 -0.640625 \r\nQ 12.796875 0.140625 7.71875 1.703125 \r\nL 7.71875 11.625 \r\nQ 12.109375 9.234375 16.796875 8.0625 \r\nQ 21.484375 6.890625 26.703125 6.890625 \r\nQ 35.15625 6.890625 40.078125 11.328125 \r\nQ 45.015625 15.765625 45.015625 23.390625 \r\nQ 45.015625 31 40.078125 35.4375 \r\nQ 35.15625 39.890625 26.703125 39.890625 \r\nQ 22.75 39.890625 18.8125 39.015625 \r\nQ 14.890625 38.140625 10.796875 36.28125 \r\nz\r\n\" id=\"DejaVuSans-53\"/>\r\n      </defs>\r\n      <g transform=\"translate(106.777306 254.356562)scale(0.1 -0.1)\">\r\n       <use xlink:href=\"#DejaVuSans-53\"/>\r\n       <use x=\"63.623047\" xlink:href=\"#DejaVuSans-48\"/>\r\n       <use x=\"127.246094\" xlink:href=\"#DejaVuSans-48\"/>\r\n      </g>\r\n     </g>\r\n    </g>\r\n    <g id=\"xtick_3\">\r\n     <g id=\"line2d_3\">\r\n      <g>\r\n       <use style=\"stroke:#000000;stroke-width:0.8;\" x=\"153.76737\" xlink:href=\"#mdfe4c958d1\" y=\"239.758125\"/>\r\n      </g>\r\n     </g>\r\n     <g id=\"text_3\">\r\n      <!-- 1000 -->\r\n      <defs>\r\n       <path d=\"M 12.40625 8.296875 \r\nL 28.515625 8.296875 \r\nL 28.515625 63.921875 \r\nL 10.984375 60.40625 \r\nL 10.984375 69.390625 \r\nL 28.421875 72.90625 \r\nL 38.28125 72.90625 \r\nL 38.28125 8.296875 \r\nL 54.390625 8.296875 \r\nL 54.390625 0 \r\nL 12.40625 0 \r\nz\r\n\" id=\"DejaVuSans-49\"/>\r\n      </defs>\r\n      <g transform=\"translate(141.04237 254.356562)scale(0.1 -0.1)\">\r\n       <use xlink:href=\"#DejaVuSans-49\"/>\r\n       <use x=\"63.623047\" xlink:href=\"#DejaVuSans-48\"/>\r\n       <use x=\"127.246094\" xlink:href=\"#DejaVuSans-48\"/>\r\n       <use x=\"190.869141\" xlink:href=\"#DejaVuSans-48\"/>\r\n      </g>\r\n     </g>\r\n    </g>\r\n    <g id=\"xtick_4\">\r\n     <g id=\"line2d_4\">\r\n      <g>\r\n       <use style=\"stroke:#000000;stroke-width:0.8;\" x=\"191.213683\" xlink:href=\"#mdfe4c958d1\" y=\"239.758125\"/>\r\n      </g>\r\n     </g>\r\n     <g id=\"text_4\">\r\n      <!-- 1500 -->\r\n      <g transform=\"translate(178.488683 254.356562)scale(0.1 -0.1)\">\r\n       <use xlink:href=\"#DejaVuSans-49\"/>\r\n       <use x=\"63.623047\" xlink:href=\"#DejaVuSans-53\"/>\r\n       <use x=\"127.246094\" xlink:href=\"#DejaVuSans-48\"/>\r\n       <use x=\"190.869141\" xlink:href=\"#DejaVuSans-48\"/>\r\n      </g>\r\n     </g>\r\n    </g>\r\n    <g id=\"xtick_5\">\r\n     <g id=\"line2d_5\">\r\n      <g>\r\n       <use style=\"stroke:#000000;stroke-width:0.8;\" x=\"228.659997\" xlink:href=\"#mdfe4c958d1\" y=\"239.758125\"/>\r\n      </g>\r\n     </g>\r\n     <g id=\"text_5\">\r\n      <!-- 2000 -->\r\n      <defs>\r\n       <path d=\"M 19.1875 8.296875 \r\nL 53.609375 8.296875 \r\nL 53.609375 0 \r\nL 7.328125 0 \r\nL 7.328125 8.296875 \r\nQ 12.9375 14.109375 22.625 23.890625 \r\nQ 32.328125 33.6875 34.8125 36.53125 \r\nQ 39.546875 41.84375 41.421875 45.53125 \r\nQ 43.3125 49.21875 43.3125 52.78125 \r\nQ 43.3125 58.59375 39.234375 62.25 \r\nQ 35.15625 65.921875 28.609375 65.921875 \r\nQ 23.96875 65.921875 18.8125 64.3125 \r\nQ 13.671875 62.703125 7.8125 59.421875 \r\nL 7.8125 69.390625 \r\nQ 13.765625 71.78125 18.9375 73 \r\nQ 24.125 74.21875 28.421875 74.21875 \r\nQ 39.75 74.21875 46.484375 68.546875 \r\nQ 53.21875 62.890625 53.21875 53.421875 \r\nQ 53.21875 48.921875 51.53125 44.890625 \r\nQ 49.859375 40.875 45.40625 35.40625 \r\nQ 44.1875 33.984375 37.640625 27.21875 \r\nQ 31.109375 20.453125 19.1875 8.296875 \r\nz\r\n\" id=\"DejaVuSans-50\"/>\r\n      </defs>\r\n      <g transform=\"translate(215.934997 254.356562)scale(0.1 -0.1)\">\r\n       <use xlink:href=\"#DejaVuSans-50\"/>\r\n       <use x=\"63.623047\" xlink:href=\"#DejaVuSans-48\"/>\r\n       <use x=\"127.246094\" xlink:href=\"#DejaVuSans-48\"/>\r\n       <use x=\"190.869141\" xlink:href=\"#DejaVuSans-48\"/>\r\n      </g>\r\n     </g>\r\n    </g>\r\n    <g id=\"xtick_6\">\r\n     <g id=\"line2d_6\">\r\n      <g>\r\n       <use style=\"stroke:#000000;stroke-width:0.8;\" x=\"266.10631\" xlink:href=\"#mdfe4c958d1\" y=\"239.758125\"/>\r\n      </g>\r\n     </g>\r\n     <g id=\"text_6\">\r\n      <!-- 2500 -->\r\n      <g transform=\"translate(253.38131 254.356562)scale(0.1 -0.1)\">\r\n       <use xlink:href=\"#DejaVuSans-50\"/>\r\n       <use x=\"63.623047\" xlink:href=\"#DejaVuSans-53\"/>\r\n       <use x=\"127.246094\" xlink:href=\"#DejaVuSans-48\"/>\r\n       <use x=\"190.869141\" xlink:href=\"#DejaVuSans-48\"/>\r\n      </g>\r\n     </g>\r\n    </g>\r\n    <g id=\"xtick_7\">\r\n     <g id=\"line2d_7\">\r\n      <g>\r\n       <use style=\"stroke:#000000;stroke-width:0.8;\" x=\"303.552624\" xlink:href=\"#mdfe4c958d1\" y=\"239.758125\"/>\r\n      </g>\r\n     </g>\r\n     <g id=\"text_7\">\r\n      <!-- 3000 -->\r\n      <defs>\r\n       <path d=\"M 40.578125 39.3125 \r\nQ 47.65625 37.796875 51.625 33 \r\nQ 55.609375 28.21875 55.609375 21.1875 \r\nQ 55.609375 10.40625 48.1875 4.484375 \r\nQ 40.765625 -1.421875 27.09375 -1.421875 \r\nQ 22.515625 -1.421875 17.65625 -0.515625 \r\nQ 12.796875 0.390625 7.625 2.203125 \r\nL 7.625 11.71875 \r\nQ 11.71875 9.328125 16.59375 8.109375 \r\nQ 21.484375 6.890625 26.8125 6.890625 \r\nQ 36.078125 6.890625 40.9375 10.546875 \r\nQ 45.796875 14.203125 45.796875 21.1875 \r\nQ 45.796875 27.640625 41.28125 31.265625 \r\nQ 36.765625 34.90625 28.71875 34.90625 \r\nL 20.21875 34.90625 \r\nL 20.21875 43.015625 \r\nL 29.109375 43.015625 \r\nQ 36.375 43.015625 40.234375 45.921875 \r\nQ 44.09375 48.828125 44.09375 54.296875 \r\nQ 44.09375 59.90625 40.109375 62.90625 \r\nQ 36.140625 65.921875 28.71875 65.921875 \r\nQ 24.65625 65.921875 20.015625 65.03125 \r\nQ 15.375 64.15625 9.8125 62.3125 \r\nL 9.8125 71.09375 \r\nQ 15.4375 72.65625 20.34375 73.4375 \r\nQ 25.25 74.21875 29.59375 74.21875 \r\nQ 40.828125 74.21875 47.359375 69.109375 \r\nQ 53.90625 64.015625 53.90625 55.328125 \r\nQ 53.90625 49.265625 50.4375 45.09375 \r\nQ 46.96875 40.921875 40.578125 39.3125 \r\nz\r\n\" id=\"DejaVuSans-51\"/>\r\n      </defs>\r\n      <g transform=\"translate(290.827624 254.356562)scale(0.1 -0.1)\">\r\n       <use xlink:href=\"#DejaVuSans-51\"/>\r\n       <use x=\"63.623047\" xlink:href=\"#DejaVuSans-48\"/>\r\n       <use x=\"127.246094\" xlink:href=\"#DejaVuSans-48\"/>\r\n       <use x=\"190.869141\" xlink:href=\"#DejaVuSans-48\"/>\r\n      </g>\r\n     </g>\r\n    </g>\r\n    <g id=\"xtick_8\">\r\n     <g id=\"line2d_8\">\r\n      <g>\r\n       <use style=\"stroke:#000000;stroke-width:0.8;\" x=\"340.998937\" xlink:href=\"#mdfe4c958d1\" y=\"239.758125\"/>\r\n      </g>\r\n     </g>\r\n     <g id=\"text_8\">\r\n      <!-- 3500 -->\r\n      <g transform=\"translate(328.273937 254.356562)scale(0.1 -0.1)\">\r\n       <use xlink:href=\"#DejaVuSans-51\"/>\r\n       <use x=\"63.623047\" xlink:href=\"#DejaVuSans-53\"/>\r\n       <use x=\"127.246094\" xlink:href=\"#DejaVuSans-48\"/>\r\n       <use x=\"190.869141\" xlink:href=\"#DejaVuSans-48\"/>\r\n      </g>\r\n     </g>\r\n    </g>\r\n    <g id=\"xtick_9\">\r\n     <g id=\"line2d_9\">\r\n      <g>\r\n       <use style=\"stroke:#000000;stroke-width:0.8;\" x=\"378.445251\" xlink:href=\"#mdfe4c958d1\" y=\"239.758125\"/>\r\n      </g>\r\n     </g>\r\n     <g id=\"text_9\">\r\n      <!-- 4000 -->\r\n      <defs>\r\n       <path d=\"M 37.796875 64.3125 \r\nL 12.890625 25.390625 \r\nL 37.796875 25.390625 \r\nz\r\nM 35.203125 72.90625 \r\nL 47.609375 72.90625 \r\nL 47.609375 25.390625 \r\nL 58.015625 25.390625 \r\nL 58.015625 17.1875 \r\nL 47.609375 17.1875 \r\nL 47.609375 0 \r\nL 37.796875 0 \r\nL 37.796875 17.1875 \r\nL 4.890625 17.1875 \r\nL 4.890625 26.703125 \r\nz\r\n\" id=\"DejaVuSans-52\"/>\r\n      </defs>\r\n      <g transform=\"translate(365.720251 254.356562)scale(0.1 -0.1)\">\r\n       <use xlink:href=\"#DejaVuSans-52\"/>\r\n       <use x=\"63.623047\" xlink:href=\"#DejaVuSans-48\"/>\r\n       <use x=\"127.246094\" xlink:href=\"#DejaVuSans-48\"/>\r\n       <use x=\"190.869141\" xlink:href=\"#DejaVuSans-48\"/>\r\n      </g>\r\n     </g>\r\n    </g>\r\n    <g id=\"text_10\">\r\n     <!-- Allocd. memory pages -->\r\n     <defs>\r\n      <path d=\"M 34.1875 63.1875 \r\nL 20.796875 26.90625 \r\nL 47.609375 26.90625 \r\nz\r\nM 28.609375 72.90625 \r\nL 39.796875 72.90625 \r\nL 67.578125 0 \r\nL 57.328125 0 \r\nL 50.6875 18.703125 \r\nL 17.828125 18.703125 \r\nL 11.1875 0 \r\nL 0.78125 0 \r\nz\r\n\" id=\"DejaVuSans-65\"/>\r\n      <path d=\"M 9.421875 75.984375 \r\nL 18.40625 75.984375 \r\nL 18.40625 0 \r\nL 9.421875 0 \r\nz\r\n\" id=\"DejaVuSans-108\"/>\r\n      <path d=\"M 30.609375 48.390625 \r\nQ 23.390625 48.390625 19.1875 42.75 \r\nQ 14.984375 37.109375 14.984375 27.296875 \r\nQ 14.984375 17.484375 19.15625 11.84375 \r\nQ 23.34375 6.203125 30.609375 6.203125 \r\nQ 37.796875 6.203125 41.984375 11.859375 \r\nQ 46.1875 17.53125 46.1875 27.296875 \r\nQ 46.1875 37.015625 41.984375 42.703125 \r\nQ 37.796875 48.390625 30.609375 48.390625 \r\nz\r\nM 30.609375 56 \r\nQ 42.328125 56 49.015625 48.375 \r\nQ 55.71875 40.765625 55.71875 27.296875 \r\nQ 55.71875 13.875 49.015625 6.21875 \r\nQ 42.328125 -1.421875 30.609375 -1.421875 \r\nQ 18.84375 -1.421875 12.171875 6.21875 \r\nQ 5.515625 13.875 5.515625 27.296875 \r\nQ 5.515625 40.765625 12.171875 48.375 \r\nQ 18.84375 56 30.609375 56 \r\nz\r\n\" id=\"DejaVuSans-111\"/>\r\n      <path d=\"M 48.78125 52.59375 \r\nL 48.78125 44.1875 \r\nQ 44.96875 46.296875 41.140625 47.34375 \r\nQ 37.3125 48.390625 33.40625 48.390625 \r\nQ 24.65625 48.390625 19.8125 42.84375 \r\nQ 14.984375 37.3125 14.984375 27.296875 \r\nQ 14.984375 17.28125 19.8125 11.734375 \r\nQ 24.65625 6.203125 33.40625 6.203125 \r\nQ 37.3125 6.203125 41.140625 7.25 \r\nQ 44.96875 8.296875 48.78125 10.40625 \r\nL 48.78125 2.09375 \r\nQ 45.015625 0.34375 40.984375 -0.53125 \r\nQ 36.96875 -1.421875 32.421875 -1.421875 \r\nQ 20.0625 -1.421875 12.78125 6.34375 \r\nQ 5.515625 14.109375 5.515625 27.296875 \r\nQ 5.515625 40.671875 12.859375 48.328125 \r\nQ 20.21875 56 33.015625 56 \r\nQ 37.15625 56 41.109375 55.140625 \r\nQ 45.0625 54.296875 48.78125 52.59375 \r\nz\r\n\" id=\"DejaVuSans-99\"/>\r\n      <path d=\"M 45.40625 46.390625 \r\nL 45.40625 75.984375 \r\nL 54.390625 75.984375 \r\nL 54.390625 0 \r\nL 45.40625 0 \r\nL 45.40625 8.203125 \r\nQ 42.578125 3.328125 38.25 0.953125 \r\nQ 33.9375 -1.421875 27.875 -1.421875 \r\nQ 17.96875 -1.421875 11.734375 6.484375 \r\nQ 5.515625 14.40625 5.515625 27.296875 \r\nQ 5.515625 40.1875 11.734375 48.09375 \r\nQ 17.96875 56 27.875 56 \r\nQ 33.9375 56 38.25 53.625 \r\nQ 42.578125 51.265625 45.40625 46.390625 \r\nz\r\nM 14.796875 27.296875 \r\nQ 14.796875 17.390625 18.875 11.75 \r\nQ 22.953125 6.109375 30.078125 6.109375 \r\nQ 37.203125 6.109375 41.296875 11.75 \r\nQ 45.40625 17.390625 45.40625 27.296875 \r\nQ 45.40625 37.203125 41.296875 42.84375 \r\nQ 37.203125 48.484375 30.078125 48.484375 \r\nQ 22.953125 48.484375 18.875 42.84375 \r\nQ 14.796875 37.203125 14.796875 27.296875 \r\nz\r\n\" id=\"DejaVuSans-100\"/>\r\n      <path d=\"M 10.6875 12.40625 \r\nL 21 12.40625 \r\nL 21 0 \r\nL 10.6875 0 \r\nz\r\n\" id=\"DejaVuSans-46\"/>\r\n      <path id=\"DejaVuSans-32\"/>\r\n      <path d=\"M 52 44.1875 \r\nQ 55.375 50.25 60.0625 53.125 \r\nQ 64.75 56 71.09375 56 \r\nQ 79.640625 56 84.28125 50.015625 \r\nQ 88.921875 44.046875 88.921875 33.015625 \r\nL 88.921875 0 \r\nL 79.890625 0 \r\nL 79.890625 32.71875 \r\nQ 79.890625 40.578125 77.09375 44.375 \r\nQ 74.3125 48.1875 68.609375 48.1875 \r\nQ 61.625 48.1875 57.5625 43.546875 \r\nQ 53.515625 38.921875 53.515625 30.90625 \r\nL 53.515625 0 \r\nL 44.484375 0 \r\nL 44.484375 32.71875 \r\nQ 44.484375 40.625 41.703125 44.40625 \r\nQ 38.921875 48.1875 33.109375 48.1875 \r\nQ 26.21875 48.1875 22.15625 43.53125 \r\nQ 18.109375 38.875 18.109375 30.90625 \r\nL 18.109375 0 \r\nL 9.078125 0 \r\nL 9.078125 54.6875 \r\nL 18.109375 54.6875 \r\nL 18.109375 46.1875 \r\nQ 21.1875 51.21875 25.484375 53.609375 \r\nQ 29.78125 56 35.6875 56 \r\nQ 41.65625 56 45.828125 52.96875 \r\nQ 50 49.953125 52 44.1875 \r\nz\r\n\" id=\"DejaVuSans-109\"/>\r\n      <path d=\"M 56.203125 29.59375 \r\nL 56.203125 25.203125 \r\nL 14.890625 25.203125 \r\nQ 15.484375 15.921875 20.484375 11.0625 \r\nQ 25.484375 6.203125 34.421875 6.203125 \r\nQ 39.59375 6.203125 44.453125 7.46875 \r\nQ 49.3125 8.734375 54.109375 11.28125 \r\nL 54.109375 2.78125 \r\nQ 49.265625 0.734375 44.1875 -0.34375 \r\nQ 39.109375 -1.421875 33.890625 -1.421875 \r\nQ 20.796875 -1.421875 13.15625 6.1875 \r\nQ 5.515625 13.8125 5.515625 26.8125 \r\nQ 5.515625 40.234375 12.765625 48.109375 \r\nQ 20.015625 56 32.328125 56 \r\nQ 43.359375 56 49.78125 48.890625 \r\nQ 56.203125 41.796875 56.203125 29.59375 \r\nz\r\nM 47.21875 32.234375 \r\nQ 47.125 39.59375 43.09375 43.984375 \r\nQ 39.0625 48.390625 32.421875 48.390625 \r\nQ 24.90625 48.390625 20.390625 44.140625 \r\nQ 15.875 39.890625 15.1875 32.171875 \r\nz\r\n\" id=\"DejaVuSans-101\"/>\r\n      <path d=\"M 41.109375 46.296875 \r\nQ 39.59375 47.171875 37.8125 47.578125 \r\nQ 36.03125 48 33.890625 48 \r\nQ 26.265625 48 22.1875 43.046875 \r\nQ 18.109375 38.09375 18.109375 28.8125 \r\nL 18.109375 0 \r\nL 9.078125 0 \r\nL 9.078125 54.6875 \r\nL 18.109375 54.6875 \r\nL 18.109375 46.1875 \r\nQ 20.953125 51.171875 25.484375 53.578125 \r\nQ 30.03125 56 36.53125 56 \r\nQ 37.453125 56 38.578125 55.875 \r\nQ 39.703125 55.765625 41.0625 55.515625 \r\nz\r\n\" id=\"DejaVuSans-114\"/>\r\n      <path d=\"M 32.171875 -5.078125 \r\nQ 28.375 -14.84375 24.75 -17.8125 \r\nQ 21.140625 -20.796875 15.09375 -20.796875 \r\nL 7.90625 -20.796875 \r\nL 7.90625 -13.28125 \r\nL 13.1875 -13.28125 \r\nQ 16.890625 -13.28125 18.9375 -11.515625 \r\nQ 21 -9.765625 23.484375 -3.21875 \r\nL 25.09375 0.875 \r\nL 2.984375 54.6875 \r\nL 12.5 54.6875 \r\nL 29.59375 11.921875 \r\nL 46.6875 54.6875 \r\nL 56.203125 54.6875 \r\nz\r\n\" id=\"DejaVuSans-121\"/>\r\n      <path d=\"M 18.109375 8.203125 \r\nL 18.109375 -20.796875 \r\nL 9.078125 -20.796875 \r\nL 9.078125 54.6875 \r\nL 18.109375 54.6875 \r\nL 18.109375 46.390625 \r\nQ 20.953125 51.265625 25.265625 53.625 \r\nQ 29.59375 56 35.59375 56 \r\nQ 45.5625 56 51.78125 48.09375 \r\nQ 58.015625 40.1875 58.015625 27.296875 \r\nQ 58.015625 14.40625 51.78125 6.484375 \r\nQ 45.5625 -1.421875 35.59375 -1.421875 \r\nQ 29.59375 -1.421875 25.265625 0.953125 \r\nQ 20.953125 3.328125 18.109375 8.203125 \r\nz\r\nM 48.6875 27.296875 \r\nQ 48.6875 37.203125 44.609375 42.84375 \r\nQ 40.53125 48.484375 33.40625 48.484375 \r\nQ 26.265625 48.484375 22.1875 42.84375 \r\nQ 18.109375 37.203125 18.109375 27.296875 \r\nQ 18.109375 17.390625 22.1875 11.75 \r\nQ 26.265625 6.109375 33.40625 6.109375 \r\nQ 40.53125 6.109375 44.609375 11.75 \r\nQ 48.6875 17.390625 48.6875 27.296875 \r\nz\r\n\" id=\"DejaVuSans-112\"/>\r\n      <path d=\"M 34.28125 27.484375 \r\nQ 23.390625 27.484375 19.1875 25 \r\nQ 14.984375 22.515625 14.984375 16.5 \r\nQ 14.984375 11.71875 18.140625 8.90625 \r\nQ 21.296875 6.109375 26.703125 6.109375 \r\nQ 34.1875 6.109375 38.703125 11.40625 \r\nQ 43.21875 16.703125 43.21875 25.484375 \r\nL 43.21875 27.484375 \r\nz\r\nM 52.203125 31.203125 \r\nL 52.203125 0 \r\nL 43.21875 0 \r\nL 43.21875 8.296875 \r\nQ 40.140625 3.328125 35.546875 0.953125 \r\nQ 30.953125 -1.421875 24.3125 -1.421875 \r\nQ 15.921875 -1.421875 10.953125 3.296875 \r\nQ 6 8.015625 6 15.921875 \r\nQ 6 25.140625 12.171875 29.828125 \r\nQ 18.359375 34.515625 30.609375 34.515625 \r\nL 43.21875 34.515625 \r\nL 43.21875 35.40625 \r\nQ 43.21875 41.609375 39.140625 45 \r\nQ 35.0625 48.390625 27.6875 48.390625 \r\nQ 23 48.390625 18.546875 47.265625 \r\nQ 14.109375 46.140625 10.015625 43.890625 \r\nL 10.015625 52.203125 \r\nQ 14.9375 54.109375 19.578125 55.046875 \r\nQ 24.21875 56 28.609375 56 \r\nQ 40.484375 56 46.34375 49.84375 \r\nQ 52.203125 43.703125 52.203125 31.203125 \r\nz\r\n\" id=\"DejaVuSans-97\"/>\r\n      <path d=\"M 45.40625 27.984375 \r\nQ 45.40625 37.75 41.375 43.109375 \r\nQ 37.359375 48.484375 30.078125 48.484375 \r\nQ 22.859375 48.484375 18.828125 43.109375 \r\nQ 14.796875 37.75 14.796875 27.984375 \r\nQ 14.796875 18.265625 18.828125 12.890625 \r\nQ 22.859375 7.515625 30.078125 7.515625 \r\nQ 37.359375 7.515625 41.375 12.890625 \r\nQ 45.40625 18.265625 45.40625 27.984375 \r\nz\r\nM 54.390625 6.78125 \r\nQ 54.390625 -7.171875 48.1875 -13.984375 \r\nQ 42 -20.796875 29.203125 -20.796875 \r\nQ 24.46875 -20.796875 20.265625 -20.09375 \r\nQ 16.0625 -19.390625 12.109375 -17.921875 \r\nL 12.109375 -9.1875 \r\nQ 16.0625 -11.328125 19.921875 -12.34375 \r\nQ 23.78125 -13.375 27.78125 -13.375 \r\nQ 36.625 -13.375 41.015625 -8.765625 \r\nQ 45.40625 -4.15625 45.40625 5.171875 \r\nL 45.40625 9.625 \r\nQ 42.625 4.78125 38.28125 2.390625 \r\nQ 33.9375 0 27.875 0 \r\nQ 17.828125 0 11.671875 7.65625 \r\nQ 5.515625 15.328125 5.515625 27.984375 \r\nQ 5.515625 40.671875 11.671875 48.328125 \r\nQ 17.828125 56 27.875 56 \r\nQ 33.9375 56 38.28125 53.609375 \r\nQ 42.625 51.21875 45.40625 46.390625 \r\nL 45.40625 54.6875 \r\nL 54.390625 54.6875 \r\nz\r\n\" id=\"DejaVuSans-103\"/>\r\n      <path d=\"M 44.28125 53.078125 \r\nL 44.28125 44.578125 \r\nQ 40.484375 46.53125 36.375 47.5 \r\nQ 32.28125 48.484375 27.875 48.484375 \r\nQ 21.1875 48.484375 17.84375 46.4375 \r\nQ 14.5 44.390625 14.5 40.28125 \r\nQ 14.5 37.15625 16.890625 35.375 \r\nQ 19.28125 33.59375 26.515625 31.984375 \r\nL 29.59375 31.296875 \r\nQ 39.15625 29.25 43.1875 25.515625 \r\nQ 47.21875 21.78125 47.21875 15.09375 \r\nQ 47.21875 7.46875 41.1875 3.015625 \r\nQ 35.15625 -1.421875 24.609375 -1.421875 \r\nQ 20.21875 -1.421875 15.453125 -0.5625 \r\nQ 10.6875 0.296875 5.421875 2 \r\nL 5.421875 11.28125 \r\nQ 10.40625 8.6875 15.234375 7.390625 \r\nQ 20.0625 6.109375 24.8125 6.109375 \r\nQ 31.15625 6.109375 34.5625 8.28125 \r\nQ 37.984375 10.453125 37.984375 14.40625 \r\nQ 37.984375 18.0625 35.515625 20.015625 \r\nQ 33.0625 21.96875 24.703125 23.78125 \r\nL 21.578125 24.515625 \r\nQ 13.234375 26.265625 9.515625 29.90625 \r\nQ 5.8125 33.546875 5.8125 39.890625 \r\nQ 5.8125 47.609375 11.28125 51.796875 \r\nQ 16.75 56 26.8125 56 \r\nQ 31.78125 56 36.171875 55.265625 \r\nQ 40.578125 54.546875 44.28125 53.078125 \r\nz\r\n\" id=\"DejaVuSans-115\"/>\r\n     </defs>\r\n     <g transform=\"translate(177.519531 268.034687)scale(0.1 -0.1)\">\r\n      <use xlink:href=\"#DejaVuSans-65\"/>\r\n      <use x=\"68.408203\" xlink:href=\"#DejaVuSans-108\"/>\r\n      <use x=\"96.191406\" xlink:href=\"#DejaVuSans-108\"/>\r\n      <use x=\"123.974609\" xlink:href=\"#DejaVuSans-111\"/>\r\n      <use x=\"185.15625\" xlink:href=\"#DejaVuSans-99\"/>\r\n      <use x=\"240.136719\" xlink:href=\"#DejaVuSans-100\"/>\r\n      <use x=\"303.613281\" xlink:href=\"#DejaVuSans-46\"/>\r\n      <use x=\"335.400391\" xlink:href=\"#DejaVuSans-32\"/>\r\n      <use x=\"367.1875\" xlink:href=\"#DejaVuSans-109\"/>\r\n      <use x=\"464.599609\" xlink:href=\"#DejaVuSans-101\"/>\r\n      <use x=\"526.123047\" xlink:href=\"#DejaVuSans-109\"/>\r\n      <use x=\"623.535156\" xlink:href=\"#DejaVuSans-111\"/>\r\n      <use x=\"684.716797\" xlink:href=\"#DejaVuSans-114\"/>\r\n      <use x=\"725.830078\" xlink:href=\"#DejaVuSans-121\"/>\r\n      <use x=\"785.009766\" xlink:href=\"#DejaVuSans-32\"/>\r\n      <use x=\"816.796875\" xlink:href=\"#DejaVuSans-112\"/>\r\n      <use x=\"880.273438\" xlink:href=\"#DejaVuSans-97\"/>\r\n      <use x=\"941.552734\" xlink:href=\"#DejaVuSans-103\"/>\r\n      <use x=\"1005.029297\" xlink:href=\"#DejaVuSans-101\"/>\r\n      <use x=\"1066.552734\" xlink:href=\"#DejaVuSans-115\"/>\r\n     </g>\r\n    </g>\r\n   </g>\r\n   <g id=\"matplotlib.axis_2\">\r\n    <g id=\"ytick_1\">\r\n     <g id=\"line2d_10\">\r\n      <defs>\r\n       <path d=\"M 0 0 \r\nL -3.5 0 \r\n\" id=\"m1593e40c97\" style=\"stroke:#000000;stroke-width:0.8;\"/>\r\n      </defs>\r\n      <g>\r\n       <use style=\"stroke:#000000;stroke-width:0.8;\" x=\"66.053125\" xlink:href=\"#m1593e40c97\" y=\"214.457798\"/>\r\n      </g>\r\n     </g>\r\n     <g id=\"text_11\">\r\n      <!-- 50000 -->\r\n      <g transform=\"translate(27.240625 218.257016)scale(0.1 -0.1)\">\r\n       <use xlink:href=\"#DejaVuSans-53\"/>\r\n       <use x=\"63.623047\" xlink:href=\"#DejaVuSans-48\"/>\r\n       <use x=\"127.246094\" xlink:href=\"#DejaVuSans-48\"/>\r\n       <use x=\"190.869141\" xlink:href=\"#DejaVuSans-48\"/>\r\n       <use x=\"254.492188\" xlink:href=\"#DejaVuSans-48\"/>\r\n      </g>\r\n     </g>\r\n    </g>\r\n    <g id=\"ytick_2\">\r\n     <g id=\"line2d_11\">\r\n      <g>\r\n       <use style=\"stroke:#000000;stroke-width:0.8;\" x=\"66.053125\" xlink:href=\"#m1593e40c97\" y=\"172.560093\"/>\r\n      </g>\r\n     </g>\r\n     <g id=\"text_12\">\r\n      <!-- 100000 -->\r\n      <g transform=\"translate(20.878125 176.359312)scale(0.1 -0.1)\">\r\n       <use xlink:href=\"#DejaVuSans-49\"/>\r\n       <use x=\"63.623047\" xlink:href=\"#DejaVuSans-48\"/>\r\n       <use x=\"127.246094\" xlink:href=\"#DejaVuSans-48\"/>\r\n       <use x=\"190.869141\" xlink:href=\"#DejaVuSans-48\"/>\r\n       <use x=\"254.492188\" xlink:href=\"#DejaVuSans-48\"/>\r\n       <use x=\"318.115234\" xlink:href=\"#DejaVuSans-48\"/>\r\n      </g>\r\n     </g>\r\n    </g>\r\n    <g id=\"ytick_3\">\r\n     <g id=\"line2d_12\">\r\n      <g>\r\n       <use style=\"stroke:#000000;stroke-width:0.8;\" x=\"66.053125\" xlink:href=\"#m1593e40c97\" y=\"130.662389\"/>\r\n      </g>\r\n     </g>\r\n     <g id=\"text_13\">\r\n      <!-- 150000 -->\r\n      <g transform=\"translate(20.878125 134.461608)scale(0.1 -0.1)\">\r\n       <use xlink:href=\"#DejaVuSans-49\"/>\r\n       <use x=\"63.623047\" xlink:href=\"#DejaVuSans-53\"/>\r\n       <use x=\"127.246094\" xlink:href=\"#DejaVuSans-48\"/>\r\n       <use x=\"190.869141\" xlink:href=\"#DejaVuSans-48\"/>\r\n       <use x=\"254.492188\" xlink:href=\"#DejaVuSans-48\"/>\r\n       <use x=\"318.115234\" xlink:href=\"#DejaVuSans-48\"/>\r\n      </g>\r\n     </g>\r\n    </g>\r\n    <g id=\"ytick_4\">\r\n     <g id=\"line2d_13\">\r\n      <g>\r\n       <use style=\"stroke:#000000;stroke-width:0.8;\" x=\"66.053125\" xlink:href=\"#m1593e40c97\" y=\"88.764685\"/>\r\n      </g>\r\n     </g>\r\n     <g id=\"text_14\">\r\n      <!-- 200000 -->\r\n      <g transform=\"translate(20.878125 92.563903)scale(0.1 -0.1)\">\r\n       <use xlink:href=\"#DejaVuSans-50\"/>\r\n       <use x=\"63.623047\" xlink:href=\"#DejaVuSans-48\"/>\r\n       <use x=\"127.246094\" xlink:href=\"#DejaVuSans-48\"/>\r\n       <use x=\"190.869141\" xlink:href=\"#DejaVuSans-48\"/>\r\n       <use x=\"254.492188\" xlink:href=\"#DejaVuSans-48\"/>\r\n       <use x=\"318.115234\" xlink:href=\"#DejaVuSans-48\"/>\r\n      </g>\r\n     </g>\r\n    </g>\r\n    <g id=\"ytick_5\">\r\n     <g id=\"line2d_14\">\r\n      <g>\r\n       <use style=\"stroke:#000000;stroke-width:0.8;\" x=\"66.053125\" xlink:href=\"#m1593e40c97\" y=\"46.86698\"/>\r\n      </g>\r\n     </g>\r\n     <g id=\"text_15\">\r\n      <!-- 250000 -->\r\n      <g transform=\"translate(20.878125 50.666199)scale(0.1 -0.1)\">\r\n       <use xlink:href=\"#DejaVuSans-50\"/>\r\n       <use x=\"63.623047\" xlink:href=\"#DejaVuSans-53\"/>\r\n       <use x=\"127.246094\" xlink:href=\"#DejaVuSans-48\"/>\r\n       <use x=\"190.869141\" xlink:href=\"#DejaVuSans-48\"/>\r\n       <use x=\"254.492188\" xlink:href=\"#DejaVuSans-48\"/>\r\n       <use x=\"318.115234\" xlink:href=\"#DejaVuSans-48\"/>\r\n      </g>\r\n     </g>\r\n    </g>\r\n    <g id=\"text_16\">\r\n     <!-- Enclave creation time (us) -->\r\n     <defs>\r\n      <path d=\"M 9.8125 72.90625 \r\nL 55.90625 72.90625 \r\nL 55.90625 64.59375 \r\nL 19.671875 64.59375 \r\nL 19.671875 43.015625 \r\nL 54.390625 43.015625 \r\nL 54.390625 34.71875 \r\nL 19.671875 34.71875 \r\nL 19.671875 8.296875 \r\nL 56.78125 8.296875 \r\nL 56.78125 0 \r\nL 9.8125 0 \r\nz\r\n\" id=\"DejaVuSans-69\"/>\r\n      <path d=\"M 54.890625 33.015625 \r\nL 54.890625 0 \r\nL 45.90625 0 \r\nL 45.90625 32.71875 \r\nQ 45.90625 40.484375 42.875 44.328125 \r\nQ 39.84375 48.1875 33.796875 48.1875 \r\nQ 26.515625 48.1875 22.3125 43.546875 \r\nQ 18.109375 38.921875 18.109375 30.90625 \r\nL 18.109375 0 \r\nL 9.078125 0 \r\nL 9.078125 54.6875 \r\nL 18.109375 54.6875 \r\nL 18.109375 46.1875 \r\nQ 21.34375 51.125 25.703125 53.5625 \r\nQ 30.078125 56 35.796875 56 \r\nQ 45.21875 56 50.046875 50.171875 \r\nQ 54.890625 44.34375 54.890625 33.015625 \r\nz\r\n\" id=\"DejaVuSans-110\"/>\r\n      <path d=\"M 2.984375 54.6875 \r\nL 12.5 54.6875 \r\nL 29.59375 8.796875 \r\nL 46.6875 54.6875 \r\nL 56.203125 54.6875 \r\nL 35.6875 0 \r\nL 23.484375 0 \r\nz\r\n\" id=\"DejaVuSans-118\"/>\r\n      <path d=\"M 18.3125 70.21875 \r\nL 18.3125 54.6875 \r\nL 36.8125 54.6875 \r\nL 36.8125 47.703125 \r\nL 18.3125 47.703125 \r\nL 18.3125 18.015625 \r\nQ 18.3125 11.328125 20.140625 9.421875 \r\nQ 21.96875 7.515625 27.59375 7.515625 \r\nL 36.8125 7.515625 \r\nL 36.8125 0 \r\nL 27.59375 0 \r\nQ 17.1875 0 13.234375 3.875 \r\nQ 9.28125 7.765625 9.28125 18.015625 \r\nL 9.28125 47.703125 \r\nL 2.6875 47.703125 \r\nL 2.6875 54.6875 \r\nL 9.28125 54.6875 \r\nL 9.28125 70.21875 \r\nz\r\n\" id=\"DejaVuSans-116\"/>\r\n      <path d=\"M 9.421875 54.6875 \r\nL 18.40625 54.6875 \r\nL 18.40625 0 \r\nL 9.421875 0 \r\nz\r\nM 9.421875 75.984375 \r\nL 18.40625 75.984375 \r\nL 18.40625 64.59375 \r\nL 9.421875 64.59375 \r\nz\r\n\" id=\"DejaVuSans-105\"/>\r\n      <path d=\"M 31 75.875 \r\nQ 24.46875 64.65625 21.28125 53.65625 \r\nQ 18.109375 42.671875 18.109375 31.390625 \r\nQ 18.109375 20.125 21.3125 9.0625 \r\nQ 24.515625 -2 31 -13.1875 \r\nL 23.1875 -13.1875 \r\nQ 15.875 -1.703125 12.234375 9.375 \r\nQ 8.59375 20.453125 8.59375 31.390625 \r\nQ 8.59375 42.28125 12.203125 53.3125 \r\nQ 15.828125 64.359375 23.1875 75.875 \r\nz\r\n\" id=\"DejaVuSans-40\"/>\r\n      <path d=\"M 8.5 21.578125 \r\nL 8.5 54.6875 \r\nL 17.484375 54.6875 \r\nL 17.484375 21.921875 \r\nQ 17.484375 14.15625 20.5 10.265625 \r\nQ 23.53125 6.390625 29.59375 6.390625 \r\nQ 36.859375 6.390625 41.078125 11.03125 \r\nQ 45.3125 15.671875 45.3125 23.6875 \r\nL 45.3125 54.6875 \r\nL 54.296875 54.6875 \r\nL 54.296875 0 \r\nL 45.3125 0 \r\nL 45.3125 8.40625 \r\nQ 42.046875 3.421875 37.71875 1 \r\nQ 33.40625 -1.421875 27.6875 -1.421875 \r\nQ 18.265625 -1.421875 13.375 4.4375 \r\nQ 8.5 10.296875 8.5 21.578125 \r\nz\r\nM 31.109375 56 \r\nz\r\n\" id=\"DejaVuSans-117\"/>\r\n      <path d=\"M 8.015625 75.875 \r\nL 15.828125 75.875 \r\nQ 23.140625 64.359375 26.78125 53.3125 \r\nQ 30.421875 42.28125 30.421875 31.390625 \r\nQ 30.421875 20.453125 26.78125 9.375 \r\nQ 23.140625 -1.703125 15.828125 -13.1875 \r\nL 8.015625 -13.1875 \r\nQ 14.5 -2 17.703125 9.0625 \r\nQ 20.90625 20.125 20.90625 31.390625 \r\nQ 20.90625 42.671875 17.703125 53.65625 \r\nQ 14.5 64.65625 8.015625 75.875 \r\nz\r\n\" id=\"DejaVuSans-41\"/>\r\n     </defs>\r\n     <g transform=\"translate(14.798438 196.752969)rotate(-90)scale(0.1 -0.1)\">\r\n      <use xlink:href=\"#DejaVuSans-69\"/>\r\n      <use x=\"63.183594\" xlink:href=\"#DejaVuSans-110\"/>\r\n      <use x=\"126.5625\" xlink:href=\"#DejaVuSans-99\"/>\r\n      <use x=\"181.542969\" xlink:href=\"#DejaVuSans-108\"/>\r\n      <use x=\"209.326172\" xlink:href=\"#DejaVuSans-97\"/>\r\n      <use x=\"270.605469\" xlink:href=\"#DejaVuSans-118\"/>\r\n      <use x=\"329.785156\" xlink:href=\"#DejaVuSans-101\"/>\r\n      <use x=\"391.308594\" xlink:href=\"#DejaVuSans-32\"/>\r\n      <use x=\"423.095703\" xlink:href=\"#DejaVuSans-99\"/>\r\n      <use x=\"478.076172\" xlink:href=\"#DejaVuSans-114\"/>\r\n      <use x=\"516.939453\" xlink:href=\"#DejaVuSans-101\"/>\r\n      <use x=\"578.462891\" xlink:href=\"#DejaVuSans-97\"/>\r\n      <use x=\"639.742188\" xlink:href=\"#DejaVuSans-116\"/>\r\n      <use x=\"678.951172\" xlink:href=\"#DejaVuSans-105\"/>\r\n      <use x=\"706.734375\" xlink:href=\"#DejaVuSans-111\"/>\r\n      <use x=\"767.916016\" xlink:href=\"#DejaVuSans-110\"/>\r\n      <use x=\"831.294922\" xlink:href=\"#DejaVuSans-32\"/>\r\n      <use x=\"863.082031\" xlink:href=\"#DejaVuSans-116\"/>\r\n      <use x=\"902.291016\" xlink:href=\"#DejaVuSans-105\"/>\r\n      <use x=\"930.074219\" xlink:href=\"#DejaVuSans-109\"/>\r\n      <use x=\"1027.486328\" xlink:href=\"#DejaVuSans-101\"/>\r\n      <use x=\"1089.009766\" xlink:href=\"#DejaVuSans-32\"/>\r\n      <use x=\"1120.796875\" xlink:href=\"#DejaVuSans-40\"/>\r\n      <use x=\"1159.810547\" xlink:href=\"#DejaVuSans-117\"/>\r\n      <use x=\"1223.189453\" xlink:href=\"#DejaVuSans-115\"/>\r\n      <use x=\"1275.289062\" xlink:href=\"#DejaVuSans-41\"/>\r\n     </g>\r\n    </g>\r\n   </g>\r\n   <g id=\"line2d_15\">\r\n    <path clip-path=\"url(#p333c6f17c1)\" d=\"M 81.271307 229.874489 \r\nL 385.634943 32.201761 \r\n\" style=\"fill:none;stroke:#008000;stroke-linecap:square;stroke-width:1.5;\"/>\r\n   </g>\r\n   <g id=\"patch_3\">\r\n    <path d=\"M 66.053125 239.758125 \r\nL 66.053125 22.318125 \r\n\" style=\"fill:none;stroke:#000000;stroke-linecap:square;stroke-linejoin:miter;stroke-width:0.8;\"/>\r\n   </g>\r\n   <g id=\"patch_4\">\r\n    <path d=\"M 400.853125 239.758125 \r\nL 400.853125 22.318125 \r\n\" style=\"fill:none;stroke:#000000;stroke-linecap:square;stroke-linejoin:miter;stroke-width:0.8;\"/>\r\n   </g>\r\n   <g id=\"patch_5\">\r\n    <path d=\"M 66.053125 239.758125 \r\nL 400.853125 239.758125 \r\n\" style=\"fill:none;stroke:#000000;stroke-linecap:square;stroke-linejoin:miter;stroke-width:0.8;\"/>\r\n   </g>\r\n   <g id=\"patch_6\">\r\n    <path d=\"M 66.053125 22.318125 \r\nL 400.853125 22.318125 \r\n\" style=\"fill:none;stroke:#000000;stroke-linecap:square;stroke-linejoin:miter;stroke-width:0.8;\"/>\r\n   </g>\r\n   <g id=\"text_17\">\r\n    <!-- Enclave creation time relation with allocated memory pages. -->\r\n    <defs>\r\n     <path d=\"M 4.203125 54.6875 \r\nL 13.1875 54.6875 \r\nL 24.421875 12.015625 \r\nL 35.59375 54.6875 \r\nL 46.1875 54.6875 \r\nL 57.421875 12.015625 \r\nL 68.609375 54.6875 \r\nL 77.59375 54.6875 \r\nL 63.28125 0 \r\nL 52.6875 0 \r\nL 40.921875 44.828125 \r\nL 29.109375 0 \r\nL 18.5 0 \r\nz\r\n\" id=\"DejaVuSans-119\"/>\r\n     <path d=\"M 54.890625 33.015625 \r\nL 54.890625 0 \r\nL 45.90625 0 \r\nL 45.90625 32.71875 \r\nQ 45.90625 40.484375 42.875 44.328125 \r\nQ 39.84375 48.1875 33.796875 48.1875 \r\nQ 26.515625 48.1875 22.3125 43.546875 \r\nQ 18.109375 38.921875 18.109375 30.90625 \r\nL 18.109375 0 \r\nL 9.078125 0 \r\nL 9.078125 75.984375 \r\nL 18.109375 75.984375 \r\nL 18.109375 46.1875 \r\nQ 21.34375 51.125 25.703125 53.5625 \r\nQ 30.078125 56 35.796875 56 \r\nQ 45.21875 56 50.046875 50.171875 \r\nQ 54.890625 44.34375 54.890625 33.015625 \r\nz\r\n\" id=\"DejaVuSans-104\"/>\r\n    </defs>\r\n    <g transform=\"translate(50.389375 16.318125)scale(0.12 -0.12)\">\r\n     <use xlink:href=\"#DejaVuSans-69\"/>\r\n     <use x=\"63.183594\" xlink:href=\"#DejaVuSans-110\"/>\r\n     <use x=\"126.5625\" xlink:href=\"#DejaVuSans-99\"/>\r\n     <use x=\"181.542969\" xlink:href=\"#DejaVuSans-108\"/>\r\n     <use x=\"209.326172\" xlink:href=\"#DejaVuSans-97\"/>\r\n     <use x=\"270.605469\" xlink:href=\"#DejaVuSans-118\"/>\r\n     <use x=\"329.785156\" xlink:href=\"#DejaVuSans-101\"/>\r\n     <use x=\"391.308594\" xlink:href=\"#DejaVuSans-32\"/>\r\n     <use x=\"423.095703\" xlink:href=\"#DejaVuSans-99\"/>\r\n     <use x=\"478.076172\" xlink:href=\"#DejaVuSans-114\"/>\r\n     <use x=\"516.939453\" xlink:href=\"#DejaVuSans-101\"/>\r\n     <use x=\"578.462891\" xlink:href=\"#DejaVuSans-97\"/>\r\n     <use x=\"639.742188\" xlink:href=\"#DejaVuSans-116\"/>\r\n     <use x=\"678.951172\" xlink:href=\"#DejaVuSans-105\"/>\r\n     <use x=\"706.734375\" xlink:href=\"#DejaVuSans-111\"/>\r\n     <use x=\"767.916016\" xlink:href=\"#DejaVuSans-110\"/>\r\n     <use x=\"831.294922\" xlink:href=\"#DejaVuSans-32\"/>\r\n     <use x=\"863.082031\" xlink:href=\"#DejaVuSans-116\"/>\r\n     <use x=\"902.291016\" xlink:href=\"#DejaVuSans-105\"/>\r\n     <use x=\"930.074219\" xlink:href=\"#DejaVuSans-109\"/>\r\n     <use x=\"1027.486328\" xlink:href=\"#DejaVuSans-101\"/>\r\n     <use x=\"1089.009766\" xlink:href=\"#DejaVuSans-32\"/>\r\n     <use x=\"1120.796875\" xlink:href=\"#DejaVuSans-114\"/>\r\n     <use x=\"1159.660156\" xlink:href=\"#DejaVuSans-101\"/>\r\n     <use x=\"1221.183594\" xlink:href=\"#DejaVuSans-108\"/>\r\n     <use x=\"1248.966797\" xlink:href=\"#DejaVuSans-97\"/>\r\n     <use x=\"1310.246094\" xlink:href=\"#DejaVuSans-116\"/>\r\n     <use x=\"1349.455078\" xlink:href=\"#DejaVuSans-105\"/>\r\n     <use x=\"1377.238281\" xlink:href=\"#DejaVuSans-111\"/>\r\n     <use x=\"1438.419922\" xlink:href=\"#DejaVuSans-110\"/>\r\n     <use x=\"1501.798828\" xlink:href=\"#DejaVuSans-32\"/>\r\n     <use x=\"1533.585938\" xlink:href=\"#DejaVuSans-119\"/>\r\n     <use x=\"1615.373047\" xlink:href=\"#DejaVuSans-105\"/>\r\n     <use x=\"1643.15625\" xlink:href=\"#DejaVuSans-116\"/>\r\n     <use x=\"1682.365234\" xlink:href=\"#DejaVuSans-104\"/>\r\n     <use x=\"1745.744141\" xlink:href=\"#DejaVuSans-32\"/>\r\n     <use x=\"1777.53125\" xlink:href=\"#DejaVuSans-97\"/>\r\n     <use x=\"1838.810547\" xlink:href=\"#DejaVuSans-108\"/>\r\n     <use x=\"1866.59375\" xlink:href=\"#DejaVuSans-108\"/>\r\n     <use x=\"1894.376953\" xlink:href=\"#DejaVuSans-111\"/>\r\n     <use x=\"1955.558594\" xlink:href=\"#DejaVuSans-99\"/>\r\n     <use x=\"2010.539062\" xlink:href=\"#DejaVuSans-97\"/>\r\n     <use x=\"2071.818359\" xlink:href=\"#DejaVuSans-116\"/>\r\n     <use x=\"2111.027344\" xlink:href=\"#DejaVuSans-101\"/>\r\n     <use x=\"2172.550781\" xlink:href=\"#DejaVuSans-100\"/>\r\n     <use x=\"2236.027344\" xlink:href=\"#DejaVuSans-32\"/>\r\n     <use x=\"2267.814453\" xlink:href=\"#DejaVuSans-109\"/>\r\n     <use x=\"2365.226562\" xlink:href=\"#DejaVuSans-101\"/>\r\n     <use x=\"2426.75\" xlink:href=\"#DejaVuSans-109\"/>\r\n     <use x=\"2524.162109\" xlink:href=\"#DejaVuSans-111\"/>\r\n     <use x=\"2585.34375\" xlink:href=\"#DejaVuSans-114\"/>\r\n     <use x=\"2626.457031\" xlink:href=\"#DejaVuSans-121\"/>\r\n     <use x=\"2685.636719\" xlink:href=\"#DejaVuSans-32\"/>\r\n     <use x=\"2717.423828\" xlink:href=\"#DejaVuSans-112\"/>\r\n     <use x=\"2780.900391\" xlink:href=\"#DejaVuSans-97\"/>\r\n     <use x=\"2842.179688\" xlink:href=\"#DejaVuSans-103\"/>\r\n     <use x=\"2905.65625\" xlink:href=\"#DejaVuSans-101\"/>\r\n     <use x=\"2967.179688\" xlink:href=\"#DejaVuSans-115\"/>\r\n     <use x=\"3019.279297\" xlink:href=\"#DejaVuSans-46\"/>\r\n    </g>\r\n   </g>\r\n  </g>\r\n </g>\r\n <defs>\r\n  <clipPath id=\"p333c6f17c1\">\r\n   <rect height=\"217.44\" width=\"334.8\" x=\"66.053125\" y=\"22.318125\"/>\r\n  </clipPath>\r\n </defs>\r\n</svg>\r\n",
      "image/png": "[encoded data removed]"
     },
     "metadata": {
      "needs_background": "light"
     }
    }
   ],
   "source": [
    "# em ordem alfabética do diretório:\n",
    "# zfwi, zMeikonal, zMhelicon, zMkirmod, zMlinear(not included), zMmf, zMmig2, zMpwd, zMricker1, zMsigmoid, zMslice, zMsnr2, zMunif2\n",
    "# no. de páginas alocadas para cada app\n",
    "\n",
    "enc_mem = [10240, 81920, 1024, 2048, 1024, 4096, 2048, 128, 512, 1024, 512, 32]\n",
    "\n",
    "fig = plt.figure()\n",
    "# plt.boxplot(create_times[2:], positions=enc_mem[2:]) # boxplot didn't look very well\n",
    "times = [np.mean(ts) for ts in create_times]\n",
    "plt.scatter(enc_mem[2:], times[2:])\n",
    "plt.xlabel(\"Allocd. memory pages\")\n",
    "plt.ylabel(\"Enclave creation time (us)\")\n",
    "plt.title(\"Enclave creation time relation with allocated memory pages.\")\n",
    "\n",
    "# add regressão linear dos dados, o primeiro é descartado por estar muito fora\n",
    "lin_model = np.polyfit(enc_mem[1:], times[1:], 1)\n",
    "lin_fn = np.poly1d(lin_model)\n",
    "x_s = [32, np.max(enc_mem[2:])]\n",
    "plt.plot(x_s, lin_fn(x_s), color=\"green\")\n",
    "\n",
    "plt.show()"
   ]
  }
 ]
}