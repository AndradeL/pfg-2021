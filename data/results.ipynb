{
 "metadata": {
  "language_info": {
   "codemirror_mode": {
    "name": "ipython",
    "version": 3
   },
   "file_extension": ".py",
   "mimetype": "text/x-python",
   "name": "python",
   "nbconvert_exporter": "python",
   "pygments_lexer": "ipython3",
   "version": "3.7.4"
  },
  "orig_nbformat": 2,
  "kernelspec": {
   "name": "python374jvsc74a57bd03553a4f3dd73112c9bbab68f88a09bf164abce22b20b2f3cda15c57dec54d150",
   "display_name": "Python 3.7.4 64-bit"
  },
  "metadata": {
   "interpreter": {
    "hash": "3553a4f3dd73112c9bbab68f88a09bf164abce22b20b2f3cda15c57dec54d150"
   }
  }
 },
 "nbformat": 4,
 "nbformat_minor": 2,
 "cells": [
  {
   "cell_type": "code",
   "execution_count": 76,
   "metadata": {},
   "outputs": [],
   "source": [
    "import numpy as np\n",
    "import pandas as pd\n",
    "import matplotlib.pyplot as plt\n",
    "\n",
    "# times are in milliseconds\n",
    "rates = []\n",
    "\n",
    "def print_mean_rate(enclave_exec_times, total_enc_times, normal_times, is_ten_times=True, append=True):\n",
    "    enclave_exec_mean = np.mean(enclave_exec_times)\n",
    "    enclave_exec_dv = np.std(enclave_exec_times)\n",
    "    enclave_total_mean = np.mean(total_enc_times)\n",
    "    enclave_total_dv = np.std(total_enc_times)\n",
    "    normal_exec_mean = np.mean(normal_times)\n",
    "    normal_exec_dv = np.std(normal_times)\n",
    "    if (is_ten_times):\n",
    "        normal_exec_mean /= 10  # normal executes fwi 10 times\n",
    "\n",
    "    if (append):\n",
    "        rates.append(enclave_exec_mean / normal_exec_mean)\n",
    "\n",
    "    print(enclave_exec_mean / normal_exec_mean)\n",
    "    print(enclave_total_mean / normal_exec_mean)\n"
   ]
  },
  {
   "cell_type": "code",
   "execution_count": 77,
   "metadata": {},
   "outputs": [
    {
     "output_type": "stream",
     "name": "stdout",
     "text": [
      "2.0649592710202955\n2.7517327074416675\n"
     ]
    }
   ],
   "source": [
    "#sfeikonal\n",
    "create_enclave_times = [5145,4792,4802,4842,4788,4783,4821,4801,4778,4831]\n",
    "enclave_exec_times = [15278,14985,14992,14896,14859,14951,14890,14973,14875,14866]\n",
    "terminate_enclave_times = [75,75,74,75,74,74,75,74,75,75]\n",
    "total_enc_times = [20548,19875,19944,19859,19794,19844,19863,19976,19743,19862]\n",
    "\n",
    "normal_times = [7405,7282,7158,7205,7122,7285,7210,7344,7208,7211]\n",
    "\n",
    "print_mean_rate(enclave_exec_times, total_enc_times, normal_times, False)"
   ]
  },
  {
   "cell_type": "code",
   "execution_count": 78,
   "metadata": {},
   "outputs": [
    {
     "output_type": "stream",
     "name": "stdout",
     "text": [
      "6.176470588235295\n482.94117647058823\n"
     ]
    }
   ],
   "source": [
    "# sfhelicon\n",
    "create_enclave_times = [102,93,92,94,93,93,93,97,94,93]\n",
    "enclave_exec_times = [3,2,2,2,2,2,2,2,2,2]\n",
    "terminate_enclave_times = [4,4,4,4,4,5,4,4,4,5]\n",
    "total_enc_times = [117,123,151,320,177,152,113,129,202,158]\n",
    "\n",
    "normal_times = [5,3,3,3,3,4,3,3,4,3]\n",
    "\n",
    "print_mean_rate(enclave_exec_times, total_enc_times, normal_times)"
   ]
  },
  {
   "cell_type": "code",
   "execution_count": 79,
   "metadata": {},
   "outputs": [
    {
     "output_type": "stream",
     "name": "stdout",
     "text": [
      "1.0963319748054836\n2.0218599481289368\n"
     ]
    }
   ],
   "source": [
    "# sfkirmod\n",
    "create_enclave_times = [140,140,140,140,143,140,140,141,140,139]\n",
    "enclave_exec_times = [296,295,296,296,297,298,295,295,295,296]\n",
    "terminate_enclave_times = [7,7,7,7,8,7,8,7,7,7]\n",
    "total_enc_times = [491,536,468,508,666,570,640,575,511,492]\n",
    "\n",
    "normal_times = [272,269,269,269,269,269,270,269,274,269]\n",
    "\n",
    "print_mean_rate(enclave_exec_times, total_enc_times, normal_times, False)"
   ]
  },
  {
   "cell_type": "code",
   "execution_count": 80,
   "metadata": {},
   "outputs": [
    {
     "output_type": "stream",
     "name": "stdout",
     "text": [
      "1.3567839195979903\n19.447236180904525\n"
     ]
    }
   ],
   "source": [
    "# sfmf\n",
    "create_enclave_times = [90,93,90,94,91,91,91,91,89,91]\n",
    "enclave_exec_times = [11,10,11,11,11,11,11,10,11,11]\n",
    "terminate_enclave_times = [4,5,4,4,4,5,4,5,4,4]\n",
    "total_enc_times = [204,131,146,165,121,164,147,183,128,159]\n",
    "\n",
    "normal_times = [82,79,78,80,79,79,80,80,80,79]\n",
    "\n",
    "print_mean_rate(enclave_exec_times, total_enc_times, normal_times)"
   ]
  },
  {
   "cell_type": "code",
   "execution_count": 81,
   "metadata": {},
   "outputs": [],
   "source": [
    "# sfmig2 didn't run"
   ]
  },
  {
   "cell_type": "code",
   "execution_count": 82,
   "metadata": {},
   "outputs": [
    {
     "output_type": "stream",
     "name": "stdout",
     "text": [
      "3.3823529411764706\n41.87500000000001\n"
     ]
    }
   ],
   "source": [
    "# sfpwd\n",
    "create_enclave_times = [139,143,140,139,141,139,139,139,140,139]\n",
    "enclave_exec_times = [19,18,18,18,19,18,19,18,19,18]\n",
    "terminate_enclave_times = [7,8,7,8,7,8,8,8,7,8]\n",
    "total_enc_times = [215,204,206,232,240,229,178,230,221,323]\n",
    "\n",
    "normal_times = [60,53,52,53,53,53,52,63,53,52]\n",
    "\n",
    "print_mean_rate(enclave_exec_times, total_enc_times, normal_times)"
   ]
  },
  {
   "cell_type": "code",
   "execution_count": 83,
   "metadata": {},
   "outputs": [
    {
     "output_type": "stream",
     "name": "stdout",
     "text": [
      "5.526315789473683\n121.49122807017542\n"
     ]
    }
   ],
   "source": [
    "# sfricker1\n",
    "create_enclave_times = [48,52,49,52,50,52,49,52,52,49]\n",
    "enclave_exec_times = [6,6,7,6,6,7,6,6,7,6]\n",
    "terminate_enclave_times = [2,2,1,2,1,1,2,2,1,2]\n",
    "total_enc_times = [247,137,98,256,79,89,69,162,123,125]\n",
    "\n",
    "normal_times = [12,12,11,11,11,11,11,12,12,11]\n",
    "\n",
    "print_mean_rate(enclave_exec_times, total_enc_times, normal_times)"
   ]
  },
  {
   "cell_type": "code",
   "execution_count": 84,
   "metadata": {},
   "outputs": [
    {
     "output_type": "stream",
     "name": "stdout",
     "text": [
      "2.0\n120.76190476190476\n"
     ]
    }
   ],
   "source": [
    "# sfsigmoid\n",
    "create_enclave_times = np.array([66,67,67,66,67,72,67,71,64,70])\n",
    "enclave_exec_times = np.array([2,2,2,3,2,2,2,2,2,2])\n",
    "terminate_enclave_times = np.array([2,3,3,2,3,3,2,2,3,3])\n",
    "total_enc_times = np.array([87,220,113,97,106,126,101,100,176,142])\n",
    "\n",
    "normal_times = np.array([11,10,11,10,10,10,11,10,11,11])\n",
    "\n",
    "print_mean_rate(enclave_exec_times, total_enc_times, normal_times)"
   ]
  },
  {
   "cell_type": "code",
   "execution_count": 85,
   "metadata": {},
   "outputs": [
    {
     "output_type": "stream",
     "name": "stdout",
     "text": [
      "40.90909090909091\n399.4545454545454\n"
     ]
    }
   ],
   "source": [
    "# sfslice\n",
    "create_enclave_times = [100,91,93,96,98,90,91,92,91,96]\n",
    "enclave_exec_times = [22,23,23,22,22,22,22,23,23,23]\n",
    "terminate_enclave_times = [4,4,4,4,5,5,5,4,4,4]\n",
    "total_enc_times = [181,138,188,297,182,235,197,214,375,190]\n",
    "\n",
    "normal_times = [8,5,5,5,5,5,6,5,6,5]\n",
    "\n",
    "print_mean_rate(enclave_exec_times, total_enc_times, normal_times)"
   ]
  },
  {
   "cell_type": "code",
   "execution_count": 86,
   "metadata": {},
   "outputs": [
    {
     "output_type": "stream",
     "name": "stdout",
     "text": [
      "3.783783783783784\n141.8918918918919\n"
     ]
    }
   ],
   "source": [
    "# sfsnr2\n",
    "create_enclave_times = [71,67,67,66,66,67,66,69,68,70]\n",
    "enclave_exec_times = [4,4,4,4,5,4,4,4,4,5]\n",
    "terminate_enclave_times = [3,2,3,3,2,3,3,3,2,2]\n",
    "total_enc_times = [194,204,163,199,167,182,130,119,122,95]\n",
    "\n",
    "normal_times = [15,11,11,10,10,10,11,11,11,11]\n",
    "\n",
    "print_mean_rate(enclave_exec_times, total_enc_times, normal_times)"
   ]
  },
  {
   "cell_type": "code",
   "execution_count": 87,
   "metadata": {},
   "outputs": [
    {
     "output_type": "stream",
     "name": "stdout",
     "text": [
      "4.942528735632185\n119.42528735632186\n"
     ]
    }
   ],
   "source": [
    "# sfunif2\n",
    "create_enclave_times = [43,46,44,43,44,43,44,44,44,44]\n",
    "enclave_exec_times = [4,5,4,4,4,5,4,4,5,4]\n",
    "terminate_enclave_times = [2,1,2,2,2,1,1,2,1,1]\n",
    "total_enc_times = [134,90,80,80,78,121,76,106,156,118]\n",
    "\n",
    "normal_times = [10,9,9,9,8,8,8,9,8,9]\n",
    "\n",
    "print_mean_rate(enclave_exec_times, total_enc_times, normal_times)"
   ]
  },
  {
   "cell_type": "code",
   "execution_count": 88,
   "metadata": {},
   "outputs": [
    {
     "output_type": "stream",
     "name": "stdout",
     "text": [
      "0.029939043647199504\n0.03034200806254748\n"
     ]
    }
   ],
   "source": [
    "# sfwi\n",
    "create_enclave_times = [529,525,527,526,523,529,526,532,526,527]\n",
    "enclave_exec_times = [45867,45928,45927,45941,45943,45923,45931,45977,45935,45932]\n",
    "terminate_enclave_times = [30,30,30,30,29,29,30,30,30,29]\n",
    "total_enc_times = [46477,46503,46527,46534,46575,46536,46592,46660,46564,46518]\n",
    "\n",
    "normal_times = [1537288,1534733,1535423,1532584,1534911,1530793,1532910,1536285,1532714,1533664]\n",
    "\n",
    "print_mean_rate(enclave_exec_times, total_enc_times, normal_times, False, False)"
   ]
  },
  {
   "cell_type": "code",
   "execution_count": 89,
   "metadata": {},
   "outputs": [
    {
     "output_type": "stream",
     "name": "stdout",
     "text": [
      "7.12386179128161\n3.5830683624801276\n"
     ]
    }
   ],
   "source": [
    "print(np.mean(rates))\n",
    "print(np.median(rates))"
   ]
  }
 ]
}