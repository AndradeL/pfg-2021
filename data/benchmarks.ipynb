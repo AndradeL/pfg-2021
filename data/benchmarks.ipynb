{
 "metadata": {
  "language_info": {
   "codemirror_mode": {
    "name": "ipython",
    "version": 3
   },
   "file_extension": ".py",
   "mimetype": "text/x-python",
   "name": "python",
   "nbconvert_exporter": "python",
   "pygments_lexer": "ipython3",
   "version": "3.7.4"
  },
  "orig_nbformat": 2,
  "kernelspec": {
   "name": "python374jvsc74a57bd03553a4f3dd73112c9bbab68f88a09bf164abce22b20b2f3cda15c57dec54d150",
   "display_name": "Python 3.7.4 64-bit"
  },
  "metadata": {
   "interpreter": {
    "hash": "3553a4f3dd73112c9bbab68f88a09bf164abce22b20b2f3cda15c57dec54d150"
   }
  }
 },
 "nbformat": 4,
 "nbformat_minor": 2,
 "cells": [
  {
   "cell_type": "code",
   "execution_count": 1,
   "metadata": {},
   "outputs": [],
   "source": [
    "import numpy as np\n",
    "import pandas as pd\n",
    "import matplotlib.pyplot as plt"
   ]
  },
  {
   "cell_type": "code",
   "execution_count": 2,
   "metadata": {},
   "outputs": [],
   "source": [
    "n_cpu_times = [1805273,1813492,1810017,1811160,1808155,1811295,1809109,1810459,1807852,1810617,1812087,1809282,1810507,1809272,1804307,1807797,1811466,1808108,1808976,1810535]\n",
    "n_diskr_times = [5328,2129,2158,2247,2103,2150,2175,2201,2180,2167,2154,2128,2164,2205,2111,2172,2179,2093,2183,2114] # refazer, cache pode ter mudado os resultados\n",
    "n_diskw_times = [3185,2892,2915,2910,2928,2926,2859,2910,2934,2847,2907,2910,2889,2947,2918,2960,2853,2890,2924,2913]\n",
    "n_mem_times = [20992,21008,20991,21041,20982,20896,20906,20969,21017,20878,20968,21273,21047,20999,21021,20994,20929,21046,20940,20983]\n",
    "n_rec_times = [133611,133549,134672,133351,134291,133903,133851,133595,134032,133634,134111,133447,133346,132659,134262,134093,134054,133555,133488,133804]\n",
    "\n",
    "e_cpu_times = [1814826,1808243,1811993,1810891,1809468,1808701,1809086,1804469,1809707,1813704,1809192,1809347,1808363,1812274,1810817,1811206,1808514,1810205,1811166,1809078]\n",
    "e_diskr_times = [39546,38741,38162,38896,37709,37885,37954,38202,37729,37968,37487,37813,37685,38046,37541,37946,38422,37384,37581,37752]\n",
    "e_diskw_times = [5192,5280,5176,5175,5180,5304,5264,5284,5225,5275,5275,5291,5195,5246,5223,5229,5328,5166,5311,5245]\n",
    "e_mem_times = [2164753,2147271,2143604,2127381,2129937,2128145,2129820,2130767,2114635,2140648,2132306,2141612,2133686,2128813,2127447,2135094,2131951,2118776,2136144,2129765]\n",
    "e_rec_times = [168149,168664,169551,169036,168612,169817,168498,169156,168665,168641,168781,169142,168708,168691,168555,168219,169106,168562,168537,168882]"
   ]
  },
  {
   "cell_type": "code",
   "execution_count": 4,
   "metadata": {},
   "outputs": [
    {
     "output_type": "execute_result",
     "data": {
      "text/plain": [
       "1.0003173272797619"
      ]
     },
     "metadata": {},
     "execution_count": 4
    }
   ],
   "source": [
    "np.mean(e_cpu_times) / np.mean(n_cpu_times)"
   ]
  },
  {
   "cell_type": "code",
   "execution_count": 5,
   "metadata": {},
   "outputs": [
    {
     "output_type": "execute_result",
     "data": {
      "text/plain": [
       "16.409853045898878"
      ]
     },
     "metadata": {},
     "execution_count": 5
    }
   ],
   "source": [
    "np.mean(e_diskr_times) / np.mean(n_diskr_times)"
   ]
  },
  {
   "cell_type": "code",
   "execution_count": 6,
   "metadata": {},
   "outputs": [
    {
     "output_type": "execute_result",
     "data": {
      "text/plain": [
       "1.7950938939007481"
      ]
     },
     "metadata": {},
     "execution_count": 6
    }
   ],
   "source": [
    "np.mean(e_diskw_times) / np.mean(n_diskw_times)"
   ]
  },
  {
   "cell_type": "code",
   "execution_count": 7,
   "metadata": {},
   "outputs": [
    {
     "output_type": "execute_result",
     "data": {
      "text/plain": [
       "101.63035867390683"
      ]
     },
     "metadata": {},
     "execution_count": 7
    }
   ],
   "source": [
    "np.mean(e_mem_times) / np.mean(n_mem_times)"
   ]
  },
  {
   "cell_type": "code",
   "execution_count": 8,
   "metadata": {},
   "outputs": [
    {
     "output_type": "execute_result",
     "data": {
      "text/plain": [
       "1.2619003120388383"
      ]
     },
     "metadata": {},
     "execution_count": 8
    }
   ],
   "source": [
    "np.mean(e_rec_times) / np.mean(n_rec_times)"
   ]
  }
 ]
}